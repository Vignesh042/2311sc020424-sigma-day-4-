{
 "cells": [
  {
   "cell_type": "code",
   "execution_count": 3,
   "id": "08f63ba7-fa55-4979-b06f-d5f1fc5bc4ee",
   "metadata": {},
   "outputs": [
    {
     "name": "stdin",
     "output_type": "stream",
     "text": [
      "Enter a positive integer:  22\n"
     ]
    },
    {
     "name": "stdout",
     "output_type": "stream",
     "text": [
      "The sum of all even numbers between 1 and 22 is: 132\n"
     ]
    }
   ],
   "source": [
    "def sum_of_evens(n):\n",
    "    \"\"\"\n",
    "    Calculate the sum of all even numbers between 1 and n (inclusive).\n",
    "\n",
    "    Args:\n",
    "        n (int): The upper limit for the range.\n",
    "\n",
    "    Returns:\n",
    "        int: The sum of all even numbers between 1 and n.\n",
    "    \"\"\"\n",
    "    if n < 1:\n",
    "        return 0  # No even numbers in the range if n is less than 1\n",
    "    \n",
    "    # Calculate the sum of even numbers\n",
    "    total = sum(i for i in range(2, n + 1, 2))\n",
    "    return total\n",
    "\n",
    "# Input from the user\n",
    "try:\n",
    "    n = int(input(\"Enter a positive integer: \"))\n",
    "    if n <= 0:\n",
    "        print(\"Please enter a positive integer.\")\n",
    "    else:\n",
    "        print(f\"The sum of all even numbers between 1 and {n} is: {sum_of_evens(n)}\")\n",
    "except ValueError:\n",
    "    print(\"Invalid input! Please enter a valid positive integer.\")\n"
   ]
  },
  {
   "cell_type": "code",
   "execution_count": null,
   "id": "85d22bfc-f773-469f-984d-2679bfe82832",
   "metadata": {},
   "outputs": [],
   "source": []
  }
 ],
 "metadata": {
  "kernelspec": {
   "display_name": "Python [conda env:base] *",
   "language": "python",
   "name": "conda-base-py"
  },
  "language_info": {
   "codemirror_mode": {
    "name": "ipython",
    "version": 3
   },
   "file_extension": ".py",
   "mimetype": "text/x-python",
   "name": "python",
   "nbconvert_exporter": "python",
   "pygments_lexer": "ipython3",
   "version": "3.12.7"
  }
 },
 "nbformat": 4,
 "nbformat_minor": 5
}
